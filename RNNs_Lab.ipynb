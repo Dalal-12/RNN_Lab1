{
 "cells": [
  {
   "cell_type": "markdown",
   "id": "cdbfec32-1b50-43e9-a648-c9879dc4b79c",
   "metadata": {},
   "source": [
    "# Import Libraries"
   ]
  },
  {
   "cell_type": "code",
   "execution_count": 1,
   "id": "e1eb792b-8cfc-44d8-9d1c-0bf8c403fb8f",
   "metadata": {},
   "outputs": [],
   "source": [
    "import os\n",
    "import re\n",
    "\n",
    "import numpy as np\n",
    "import pandas as pd\n",
    "\n",
    "import tensorflow as tf\n",
    "from tensorflow.keras.preprocessing.text import Tokenizer\n",
    "from tensorflow.keras.models import Sequential\n",
    "from tensorflow.keras.layers import Embedding, LSTM, SimpleRNN, Dense, Dropout\n",
    "from tensorflow.keras.preprocessing.sequence import pad_sequences\n"
   ]
  },
  {
   "cell_type": "markdown",
   "id": "6a7705c2-42a1-4047-bbac-3a0f7465e032",
   "metadata": {},
   "source": [
    "# Load corpus"
   ]
  },
  {
   "cell_type": "markdown",
   "id": "31467209-c5d3-4a4f-a79f-4a2f6e68ce85",
   "metadata": {},
   "source": [
    "### Load Positives"
   ]
  },
  {
   "cell_type": "code",
   "execution_count": 2,
   "id": "8ef01310-47d6-44ac-aff1-abf4da07a42d",
   "metadata": {},
   "outputs": [],
   "source": [
    "train_tweets, train_labels = [], []\n",
    "\n",
    "pos = os.getcwd() + '/corpus/arabic_tweets/pos/'  # Replace with the actual directory path\n",
    "\n",
    "# Iterate over each file in the directory\n",
    "for filename in os.listdir(pos):\n",
    "    if filename.endswith('.txt'):  # Select only text files\n",
    "        file_path = os.path.join(pos, filename)\n",
    "        with open(file_path, 'r', encoding='utf-8-sig') as file:\n",
    "            file_content = file.read()\n",
    "            train_tweets.append(file_content)\n",
    "            train_labels.append(\"positive\")"
   ]
  },
  {
   "cell_type": "markdown",
   "id": "268d463c-377c-4730-9398-cb5fcaa5e44b",
   "metadata": {},
   "source": [
    "### Load Negatives"
   ]
  },
  {
   "cell_type": "code",
   "execution_count": 3,
   "id": "937bb606-b07a-4e7e-a83a-1ccce2b18263",
   "metadata": {},
   "outputs": [],
   "source": [
    "# Get the txt file negative tweet\n",
    "pos = os.getcwd() + '/corpus/arabic_tweets/neg/'  # Replace with the actual directory path\n",
    "\n",
    "# Iterate over each file in the directory\n",
    "for filename in os.listdir(pos):\n",
    "    if filename.endswith('.txt'):  # Select only text files\n",
    "        file_path = os.path.join(pos, filename)\n",
    "        with open(file_path, 'r', encoding='utf-8-sig') as file:\n",
    "            file_content = file.read()\n",
    "            train_tweets.append(file_content)\n",
    "            train_labels.append(\"negative\")"
   ]
  },
  {
   "cell_type": "markdown",
   "id": "3a2e8e33-f28b-4402-ab6d-f4925c1db165",
   "metadata": {},
   "source": [
    "### Build a dataframe"
   ]
  },
  {
   "cell_type": "code",
   "execution_count": 4,
   "id": "743b5741-d234-4d22-a833-76ec742cd6f3",
   "metadata": {},
   "outputs": [
    {
     "data": {
      "text/html": [
       "<div>\n",
       "<style scoped>\n",
       "    .dataframe tbody tr th:only-of-type {\n",
       "        vertical-align: middle;\n",
       "    }\n",
       "\n",
       "    .dataframe tbody tr th {\n",
       "        vertical-align: top;\n",
       "    }\n",
       "\n",
       "    .dataframe thead th {\n",
       "        text-align: right;\n",
       "    }\n",
       "</style>\n",
       "<table border=\"1\" class=\"dataframe\">\n",
       "  <thead>\n",
       "    <tr style=\"text-align: right;\">\n",
       "      <th></th>\n",
       "      <th>Tweets</th>\n",
       "      <th>Labels</th>\n",
       "    </tr>\n",
       "  </thead>\n",
       "  <tbody>\n",
       "    <tr>\n",
       "      <th>0</th>\n",
       "      <td>نحن الذين يتحول كل ما نود أن نقوله إلى دعاء لل...</td>\n",
       "      <td>positive</td>\n",
       "    </tr>\n",
       "    <tr>\n",
       "      <th>1</th>\n",
       "      <td>وفي النهاية لن يبقىٰ معك آحدإلا من رأىٰ الجمال...</td>\n",
       "      <td>positive</td>\n",
       "    </tr>\n",
       "    <tr>\n",
       "      <th>2</th>\n",
       "      <td>نمش ننوم ما دا ديل ولادنا 💚\\n</td>\n",
       "      <td>positive</td>\n",
       "    </tr>\n",
       "    <tr>\n",
       "      <th>3</th>\n",
       "      <td>تعدل النت وشفتها ✌\\n</td>\n",
       "      <td>positive</td>\n",
       "    </tr>\n",
       "    <tr>\n",
       "      <th>4</th>\n",
       "      <td>🎥 المهمة الأولى في \"جدة\" ✔💪🏼 💙 #الهلال #فيديو_...</td>\n",
       "      <td>positive</td>\n",
       "    </tr>\n",
       "  </tbody>\n",
       "</table>\n",
       "</div>"
      ],
      "text/plain": [
       "                                              Tweets    Labels\n",
       "0  نحن الذين يتحول كل ما نود أن نقوله إلى دعاء لل...  positive\n",
       "1  وفي النهاية لن يبقىٰ معك آحدإلا من رأىٰ الجمال...  positive\n",
       "2                      نمش ننوم ما دا ديل ولادنا 💚\\n  positive\n",
       "3                               تعدل النت وشفتها ✌\\n  positive\n",
       "4  🎥 المهمة الأولى في \"جدة\" ✔💪🏼 💙 #الهلال #فيديو_...  positive"
      ]
     },
     "execution_count": 4,
     "metadata": {},
     "output_type": "execute_result"
    }
   ],
   "source": [
    "train_dic = {\n",
    "    'Tweets' : train_tweets,\n",
    "    'Labels' : train_labels\n",
    "}\n",
    "\n",
    "train_corpus = pd.DataFrame(train_dic)\n",
    "train_corpus.head()"
   ]
  },
  {
   "cell_type": "markdown",
   "id": "6b046ada-13fc-45d2-9056-b4115de8e812",
   "metadata": {},
   "source": [
    "# EDA\n",
    "\n",
    "##### Explore your dataset"
   ]
  },
  {
   "cell_type": "code",
   "execution_count": 5,
   "id": "8b6d563b-a771-43b4-8e43-3688275b1f34",
   "metadata": {
    "scrolled": true
   },
   "outputs": [
    {
     "data": {
      "text/html": [
       "<div>\n",
       "<style scoped>\n",
       "    .dataframe tbody tr th:only-of-type {\n",
       "        vertical-align: middle;\n",
       "    }\n",
       "\n",
       "    .dataframe tbody tr th {\n",
       "        vertical-align: top;\n",
       "    }\n",
       "\n",
       "    .dataframe thead th {\n",
       "        text-align: right;\n",
       "    }\n",
       "</style>\n",
       "<table border=\"1\" class=\"dataframe\">\n",
       "  <thead>\n",
       "    <tr style=\"text-align: right;\">\n",
       "      <th></th>\n",
       "      <th>Tweets</th>\n",
       "      <th>Labels</th>\n",
       "    </tr>\n",
       "  </thead>\n",
       "  <tbody>\n",
       "    <tr>\n",
       "      <th>58746</th>\n",
       "      <td>#أمي فقيدتي وأن مرت الأيام.. وبدأ الجميع بنسيا...</td>\n",
       "      <td>negative</td>\n",
       "    </tr>\n",
       "    <tr>\n",
       "      <th>58747</th>\n",
       "      <td>مره في السنه ما كل اسبوع عاد 😢\\n</td>\n",
       "      <td>negative</td>\n",
       "    </tr>\n",
       "    <tr>\n",
       "      <th>58748</th>\n",
       "      <td>#يوم_الجمعه اسال الله عز وجل في هذا اليوم الفض...</td>\n",
       "      <td>negative</td>\n",
       "    </tr>\n",
       "    <tr>\n",
       "      <th>58749</th>\n",
       "      <td>يعني الغاء العقود الاولي كانت تسكيته لنا شسالف...</td>\n",
       "      <td>negative</td>\n",
       "    </tr>\n",
       "    <tr>\n",
       "      <th>58750</th>\n",
       "      <td>الفار 🐀 في عهد خليل جلال 😲\\n</td>\n",
       "      <td>negative</td>\n",
       "    </tr>\n",
       "  </tbody>\n",
       "</table>\n",
       "</div>"
      ],
      "text/plain": [
       "                                                  Tweets    Labels\n",
       "58746  #أمي فقيدتي وأن مرت الأيام.. وبدأ الجميع بنسيا...  negative\n",
       "58747                   مره في السنه ما كل اسبوع عاد 😢\\n  negative\n",
       "58748  #يوم_الجمعه اسال الله عز وجل في هذا اليوم الفض...  negative\n",
       "58749  يعني الغاء العقود الاولي كانت تسكيته لنا شسالف...  negative\n",
       "58750                       الفار 🐀 في عهد خليل جلال 😲\\n  negative"
      ]
     },
     "execution_count": 5,
     "metadata": {},
     "output_type": "execute_result"
    }
   ],
   "source": [
    "train_corpus.tail()"
   ]
  },
  {
   "cell_type": "code",
   "execution_count": 6,
   "id": "45cdd01b",
   "metadata": {
    "scrolled": true
   },
   "outputs": [
    {
     "data": {
      "text/plain": [
       "Tweets    0\n",
       "Labels    0\n",
       "dtype: int64"
      ]
     },
     "execution_count": 6,
     "metadata": {},
     "output_type": "execute_result"
    }
   ],
   "source": [
    "train_corpus.isnull().sum()"
   ]
  },
  {
   "cell_type": "code",
   "execution_count": 7,
   "id": "0d835fc2",
   "metadata": {
    "scrolled": true
   },
   "outputs": [
    {
     "data": {
      "text/plain": [
       "positive    29849\n",
       "negative    28902\n",
       "Name: Labels, dtype: int64"
      ]
     },
     "execution_count": 7,
     "metadata": {},
     "output_type": "execute_result"
    }
   ],
   "source": [
    "train_corpus['Labels'].value_counts()"
   ]
  },
  {
   "cell_type": "code",
   "execution_count": 8,
   "id": "b55b615d",
   "metadata": {},
   "outputs": [
    {
     "data": {
      "text/plain": [
       "(58751, 2)"
      ]
     },
     "execution_count": 8,
     "metadata": {},
     "output_type": "execute_result"
    }
   ],
   "source": [
    "train_corpus.shape"
   ]
  },
  {
   "cell_type": "code",
   "execution_count": 9,
   "id": "b5facd41",
   "metadata": {},
   "outputs": [],
   "source": [
    "train_corpus = train_corpus.drop_duplicates()"
   ]
  },
  {
   "cell_type": "code",
   "execution_count": 10,
   "id": "cec9480a",
   "metadata": {},
   "outputs": [
    {
     "data": {
      "text/plain": [
       "(36849, 2)"
      ]
     },
     "execution_count": 10,
     "metadata": {},
     "output_type": "execute_result"
    }
   ],
   "source": [
    "train_corpus.shape"
   ]
  },
  {
   "cell_type": "markdown",
   "id": "d8d8d4a6-89a4-47b1-bf43-08dc09b97506",
   "metadata": {},
   "source": [
    "# Data Preprocessing"
   ]
  },
  {
   "cell_type": "markdown",
   "id": "01f8d9fa-6fb7-4352-aadb-3abeb932c412",
   "metadata": {},
   "source": [
    "### Shuffle all rows"
   ]
  },
  {
   "cell_type": "code",
   "execution_count": 11,
   "id": "246bb815-274b-43a3-9d60-967a5864a6da",
   "metadata": {},
   "outputs": [],
   "source": [
    "train_corpus = train_corpus.sample(frac=1)"
   ]
  },
  {
   "cell_type": "code",
   "execution_count": 12,
   "id": "8414f785",
   "metadata": {},
   "outputs": [
    {
     "data": {
      "text/html": [
       "<div>\n",
       "<style scoped>\n",
       "    .dataframe tbody tr th:only-of-type {\n",
       "        vertical-align: middle;\n",
       "    }\n",
       "\n",
       "    .dataframe tbody tr th {\n",
       "        vertical-align: top;\n",
       "    }\n",
       "\n",
       "    .dataframe thead th {\n",
       "        text-align: right;\n",
       "    }\n",
       "</style>\n",
       "<table border=\"1\" class=\"dataframe\">\n",
       "  <thead>\n",
       "    <tr style=\"text-align: right;\">\n",
       "      <th></th>\n",
       "      <th>Tweets</th>\n",
       "      <th>Labels</th>\n",
       "    </tr>\n",
       "  </thead>\n",
       "  <tbody>\n",
       "    <tr>\n",
       "      <th>7298</th>\n",
       "      <td>والله الأيام ذي السرير اللي بجنبه فيش مثل قطعة...</td>\n",
       "      <td>positive</td>\n",
       "    </tr>\n",
       "    <tr>\n",
       "      <th>50587</th>\n",
       "      <td>كاتبه بالرغم من الفراق لا أزال اتنفس 🤔 على أسا...</td>\n",
       "      <td>negative</td>\n",
       "    </tr>\n",
       "    <tr>\n",
       "      <th>36650</th>\n",
       "      <td>الله أكبر ياحبيبي ياالله مااعظمك وماأعظم شأنك ...</td>\n",
       "      <td>negative</td>\n",
       "    </tr>\n",
       "    <tr>\n",
       "      <th>54213</th>\n",
       "      <td>اعطيني اعذارك وانا ابقى بحبك :(\\n</td>\n",
       "      <td>negative</td>\n",
       "    </tr>\n",
       "    <tr>\n",
       "      <th>7562</th>\n",
       "      <td>#الهلال_رنهم #النصر_نادي_الجاليات #الإتحاد_قده...</td>\n",
       "      <td>positive</td>\n",
       "    </tr>\n",
       "    <tr>\n",
       "      <th>...</th>\n",
       "      <td>...</td>\n",
       "      <td>...</td>\n",
       "    </tr>\n",
       "    <tr>\n",
       "      <th>31849</th>\n",
       "      <td>يا خاين مالك أمان 😏 اتفقنا نروح مع بعض 🤔😂\\n</td>\n",
       "      <td>negative</td>\n",
       "    </tr>\n",
       "    <tr>\n",
       "      <th>6634</th>\n",
       "      <td>ياحبي لك .. 💛\\n</td>\n",
       "      <td>positive</td>\n",
       "    </tr>\n",
       "    <tr>\n",
       "      <th>351</th>\n",
       "      <td>أفضل القلوب : ❤ قلب لايغيب عنه الصدق وأفضل الن...</td>\n",
       "      <td>positive</td>\n",
       "    </tr>\n",
       "    <tr>\n",
       "      <th>12867</th>\n",
       "      <td>تجيبك طواري الليل لا راح ثلث الليل و يدعيك قلب...</td>\n",
       "      <td>positive</td>\n",
       "    </tr>\n",
       "    <tr>\n",
       "      <th>50216</th>\n",
       "      <td>انتي الزين كله ذوق وحلا ماتحتاجين مدييح لبي قل...</td>\n",
       "      <td>negative</td>\n",
       "    </tr>\n",
       "  </tbody>\n",
       "</table>\n",
       "<p>36849 rows × 2 columns</p>\n",
       "</div>"
      ],
      "text/plain": [
       "                                                  Tweets    Labels\n",
       "7298   والله الأيام ذي السرير اللي بجنبه فيش مثل قطعة...  positive\n",
       "50587  كاتبه بالرغم من الفراق لا أزال اتنفس 🤔 على أسا...  negative\n",
       "36650  الله أكبر ياحبيبي ياالله مااعظمك وماأعظم شأنك ...  negative\n",
       "54213                  اعطيني اعذارك وانا ابقى بحبك :(\\n  negative\n",
       "7562   #الهلال_رنهم #النصر_نادي_الجاليات #الإتحاد_قده...  positive\n",
       "...                                                  ...       ...\n",
       "31849        يا خاين مالك أمان 😏 اتفقنا نروح مع بعض 🤔😂\\n  negative\n",
       "6634                                     ياحبي لك .. 💛\\n  positive\n",
       "351    أفضل القلوب : ❤ قلب لايغيب عنه الصدق وأفضل الن...  positive\n",
       "12867  تجيبك طواري الليل لا راح ثلث الليل و يدعيك قلب...  positive\n",
       "50216  انتي الزين كله ذوق وحلا ماتحتاجين مدييح لبي قل...  negative\n",
       "\n",
       "[36849 rows x 2 columns]"
      ]
     },
     "execution_count": 12,
     "metadata": {},
     "output_type": "execute_result"
    }
   ],
   "source": [
    "train_corpus"
   ]
  },
  {
   "cell_type": "markdown",
   "id": "7c10a499-afa6-4d35-aa8a-53dbcae8e557",
   "metadata": {},
   "source": [
    "### Data cleaning\n",
    "\n",
    "**Hint: remove URLs, Hashtags, alphanumeric characters, punctuation marks, stop words, extra spaces**"
   ]
  },
  {
   "cell_type": "code",
   "execution_count": 13,
   "id": "d141959a",
   "metadata": {},
   "outputs": [],
   "source": [
    "URL_pattern = r\"http[s]?://(?:[a-zA-Z]|[0-9]|[$-_@.&+]|[!*\\\\(\\\\),]|(?:%[0-9a-fA-F][0-9a-fA-F]))+\"\n",
    "hashtag_pattern = r\"#\\w+\"\n",
    "mention_pattern = r\"@\\w+\"\n",
    "alphanumeric_pattern = r\"\\w*\\d\\w*\"\n",
    "punctuation_pattern = r\"[^\\w\\s]\"\n",
    "retweet_pattern = r\"^RT[\\s]+\""
   ]
  },
  {
   "cell_type": "code",
   "execution_count": 14,
   "id": "957b0161-4c2d-4f33-90a3-e8892a27455a",
   "metadata": {},
   "outputs": [],
   "source": [
    "def load_stopwords(file_path):\n",
    "    with open(file_path, 'r', encoding=\"utf-8\") as f:\n",
    "        stopwords = f.readlines()\n",
    "        stop_set = set(m.strip() for m in stopwords)\n",
    "    return frozenset(stop_set)\n",
    "\n",
    "def process_text(text, stop_words):\n",
    "    # Remove URLs\n",
    "    text = re.sub(URL_pattern, '', text)\n",
    "    \n",
    "    # Remove hashtags\n",
    "    text = re.sub(hashtag_pattern, '', text)\n",
    "    \n",
    "    # Remove mention\n",
    "    text = re.sub(mention_pattern, '', text)\n",
    "\n",
    "    # Remove alphanumeric characters\n",
    "    text = re.sub(alphanumeric_pattern, '', text)\n",
    "\n",
    "    # Remove punctuation marks\n",
    "    text = re.sub(punctuation_pattern, '', text)\n",
    "    \n",
    "    # Remove Retweet marks\n",
    "    text = re.sub(retweet_pattern, '', text)\n",
    "\n",
    "    # Remove stop words using the provided set\n",
    "    text = ' '.join([word for word in text.split() if word.lower() not in stop_words])\n",
    "    text = ' '.join(text.split())\n",
    "    return text"
   ]
  },
  {
   "cell_type": "markdown",
   "id": "d5996172",
   "metadata": {},
   "source": [
    "#### Now Clean your text using above function or implement it from scrach"
   ]
  },
  {
   "cell_type": "code",
   "execution_count": 15,
   "id": "42e2c527",
   "metadata": {
    "scrolled": true
   },
   "outputs": [],
   "source": [
    "stop_words = load_stopwords('C:/Users/dalal/Desktop/RNN_Lab1/corpus/Stop_Words.txt')"
   ]
  },
  {
   "cell_type": "code",
   "execution_count": 16,
   "id": "175ebacd",
   "metadata": {},
   "outputs": [
    {
     "name": "stdout",
     "output_type": "stream",
     "text": [
      "frozenset({'جميع', 'وان', 'يكون', 'الاولى', 'تم', 'ـ', 'اليوم', 'شخصا', 'صفر', 'مليار', 'ذلك', 'حيث', 'كانت', 'التي', 'بشكل', 'وفي', 'برس', 'الثانية', 'حتى', 'كل', 'مقابل', 'اخرى', 'الف', 'هي', 'اذا', 'غدا', 'وقال', 'امس', 'ثلاثة', 'قال', 'أ', 'الاخيرة', 'وكان', 'نهاية', 'هذه', 'اعلنت', 'غير', 'او', 'اثر', 'صباح', 'الثاني', 'هناك', 'واحد', 'هذا', 'لكن', 'الذين', 'عندما', 'الماضي', 'الذى', 'عاما', 'بسبب', 'بان', 'ضمن', 'مليون', 'عند', 'بها', 'زيارة', 'اما', 'هو', 'عشر', 'نفسه', 'قد', 'فى', 'فيها', 'لم', 'اكد', 'الى', 'بن', 'واوضح', 'ثم', 'واضاف', 'مايو', 'اكثر', 'عن', 'عليها', 'و6', 'وكانت', 'الذي', 'اول', 'اف', 'لوكالة', 'ولا', 'عدد', 'الا', 'الان', 'لن', 'كان', 'وهو', 'السابق', 'المقبل', 'اجل', 'ا', 'واضافت', 'انها', 'ما', 'وقالت', 'لقاء', 'يمكن', 'ضد', 'لدى', 'حاليا', 'كلم', 'بين', 'ايار', 'مساء', 'امام', 'ومن', 'من', 'عشرة', 'منذ', 'بعد', 'احد', 'و', 'ف', 'ولم', 'ان', 'قوة', 'الوقت', 'مع', 'ايام', 'باسم', 'الاول', 'وقد', 'فان', 'على', 'به', 'سنة', 'يوم', 'قبل', 'نحو', 'حوالى', 'منها', 'وهي', 'حين', 'اعادة', 'سنوات', 'عام', 'وقف', 'حول', '،', 'الذاتي', 'بعض', 'ب', 'انه', 'اي', 'دون', 'اطار', 'في', 'فيه', 'واكد', 'له', 'عليه', 'كما', 'اربعة', 'خلال', 'التى', 'ايضا', 'عدة', 'لا', 'عدم', 'لها', 'للامم'})\n"
     ]
    }
   ],
   "source": [
    "print(stop_words)"
   ]
  },
  {
   "cell_type": "code",
   "execution_count": 17,
   "id": "d3726a4e",
   "metadata": {},
   "outputs": [],
   "source": [
    "train_corpus['Tweets'] = train_corpus['Tweets'].apply(lambda x: process_text(x, stop_words))"
   ]
  },
  {
   "cell_type": "code",
   "execution_count": 18,
   "id": "6e5e733d",
   "metadata": {
    "scrolled": true
   },
   "outputs": [
    {
     "data": {
      "text/plain": [
       "7298     والله الأيام ذي السرير اللي بجنبه فيش مثل قطعة...\n",
       "50587    كاتبه بالرغم الفراق أزال اتنفس أساس صاحبنا أكسجين\n",
       "36650    الله أكبر ياحبيبي ياالله مااعظمك وماأعظم شأنك ...\n",
       "54213                         اعطيني اعذارك وانا ابقى بحبك\n",
       "7562     الهلال دوم كا العاده يحرق قلوب حساده الفن نشوف...\n",
       "                               ...                        \n",
       "31849                        يا خاين مالك أمان اتفقنا نروح\n",
       "6634                                              ياحبي لك\n",
       "351      أفضل القلوب قلب لايغيب عنه الصدق وأفضل الناس ش...\n",
       "12867    تجيبك طواري الليل راح ثلث الليل يدعيك قلب تناس...\n",
       "50216    انتي الزين كله ذوق وحلا ماتحتاجين مدييح لبي قل...\n",
       "Name: Tweets, Length: 36849, dtype: object"
      ]
     },
     "execution_count": 18,
     "metadata": {},
     "output_type": "execute_result"
    }
   ],
   "source": [
    "train_corpus['Tweets']"
   ]
  },
  {
   "cell_type": "code",
   "execution_count": 19,
   "id": "5453caf2",
   "metadata": {},
   "outputs": [
    {
     "data": {
      "text/html": [
       "<div>\n",
       "<style scoped>\n",
       "    .dataframe tbody tr th:only-of-type {\n",
       "        vertical-align: middle;\n",
       "    }\n",
       "\n",
       "    .dataframe tbody tr th {\n",
       "        vertical-align: top;\n",
       "    }\n",
       "\n",
       "    .dataframe thead th {\n",
       "        text-align: right;\n",
       "    }\n",
       "</style>\n",
       "<table border=\"1\" class=\"dataframe\">\n",
       "  <thead>\n",
       "    <tr style=\"text-align: right;\">\n",
       "      <th></th>\n",
       "      <th>Tweets</th>\n",
       "      <th>Labels</th>\n",
       "    </tr>\n",
       "  </thead>\n",
       "  <tbody>\n",
       "    <tr>\n",
       "      <th>7298</th>\n",
       "      <td>والله الأيام ذي السرير اللي بجنبه فيش مثل قطعة...</td>\n",
       "      <td>1</td>\n",
       "    </tr>\n",
       "    <tr>\n",
       "      <th>50587</th>\n",
       "      <td>كاتبه بالرغم الفراق أزال اتنفس أساس صاحبنا أكسجين</td>\n",
       "      <td>0</td>\n",
       "    </tr>\n",
       "    <tr>\n",
       "      <th>36650</th>\n",
       "      <td>الله أكبر ياحبيبي ياالله مااعظمك وماأعظم شأنك ...</td>\n",
       "      <td>0</td>\n",
       "    </tr>\n",
       "    <tr>\n",
       "      <th>54213</th>\n",
       "      <td>اعطيني اعذارك وانا ابقى بحبك</td>\n",
       "      <td>0</td>\n",
       "    </tr>\n",
       "    <tr>\n",
       "      <th>7562</th>\n",
       "      <td>الهلال دوم كا العاده يحرق قلوب حساده الفن نشوف...</td>\n",
       "      <td>1</td>\n",
       "    </tr>\n",
       "  </tbody>\n",
       "</table>\n",
       "</div>"
      ],
      "text/plain": [
       "                                                  Tweets  Labels\n",
       "7298   والله الأيام ذي السرير اللي بجنبه فيش مثل قطعة...       1\n",
       "50587  كاتبه بالرغم الفراق أزال اتنفس أساس صاحبنا أكسجين       0\n",
       "36650  الله أكبر ياحبيبي ياالله مااعظمك وماأعظم شأنك ...       0\n",
       "54213                       اعطيني اعذارك وانا ابقى بحبك       0\n",
       "7562   الهلال دوم كا العاده يحرق قلوب حساده الفن نشوف...       1"
      ]
     },
     "execution_count": 19,
     "metadata": {},
     "output_type": "execute_result"
    }
   ],
   "source": [
    "train_corpus['Labels'] = train_corpus['Labels'].map({'positive': 1, 'negative': 0})\n",
    "train_corpus.head()"
   ]
  },
  {
   "cell_type": "markdown",
   "id": "acf0cb63",
   "metadata": {},
   "source": [
    "#### Extra: you could do stemming or lemmatization before training"
   ]
  },
  {
   "cell_type": "markdown",
   "id": "b485120c-47f1-43e9-b6c1-cbe0a69f04c7",
   "metadata": {},
   "source": [
    "# Split data to train and test"
   ]
  },
  {
   "cell_type": "code",
   "execution_count": 20,
   "id": "116e73af-8d88-4928-8243-6f456fc6de40",
   "metadata": {},
   "outputs": [],
   "source": [
    "from sklearn.model_selection import train_test_split\n",
    "\n",
    "X = train_corpus[\"Tweets\"]\n",
    "Y = train_corpus[\"Labels\"]\n",
    "\n",
    "X_train, X_test, Y_train, Y_test = train_test_split(X, Y, test_size=0.2, random_state=42)"
   ]
  },
  {
   "cell_type": "markdown",
   "id": "160549cf-bffd-4205-a8fa-a6aa0695bcd8",
   "metadata": {},
   "source": [
    "# Tokenizer"
   ]
  },
  {
   "cell_type": "code",
   "execution_count": 23,
   "id": "3f152bfd-478f-4cdd-b17e-885d4649019f",
   "metadata": {},
   "outputs": [],
   "source": [
    "max_words = 1000 \n",
    "tokenizer = Tokenizer(num_words=max_words)\n",
    "tokenizer.fit_on_texts(X_train)"
   ]
  },
  {
   "cell_type": "markdown",
   "id": "5bba90d2-7712-4e80-9120-c82f495b5f66",
   "metadata": {},
   "source": [
    "# Text to sequence"
   ]
  },
  {
   "cell_type": "code",
   "execution_count": 24,
   "id": "b8d2fb10-2a1a-4201-8d23-a3301dcb51fe",
   "metadata": {},
   "outputs": [],
   "source": [
    "X_train_seq = tokenizer.texts_to_sequences(X_train)\n",
    "X_test_seq = tokenizer.texts_to_sequences(X_test)"
   ]
  },
  {
   "cell_type": "markdown",
   "id": "21c31c7d-0375-4ef2-9f51-dccef70793d3",
   "metadata": {},
   "source": [
    "# Pad sequence"
   ]
  },
  {
   "cell_type": "code",
   "execution_count": 25,
   "id": "15abbc12",
   "metadata": {
    "scrolled": true
   },
   "outputs": [],
   "source": [
    "maxlen = 100  \n",
    "X_train_padded = pad_sequences(X_train_seq, maxlen=maxlen)\n",
    "X_test_padded = pad_sequences(X_test_seq, maxlen=maxlen)"
   ]
  },
  {
   "cell_type": "markdown",
   "id": "8e5d0909-8e90-4aef-9ddb-42c3597791cb",
   "metadata": {},
   "source": [
    "# RNN Model"
   ]
  },
  {
   "cell_type": "code",
   "execution_count": 27,
   "id": "1a6b3521",
   "metadata": {},
   "outputs": [
    {
     "name": "stdout",
     "output_type": "stream",
     "text": [
      "Epoch 1/20\n",
      "\u001b[1m461/461\u001b[0m \u001b[32m━━━━━━━━━━━━━━━━━━━━\u001b[0m\u001b[37m\u001b[0m \u001b[1m25s\u001b[0m 44ms/step - accuracy: 0.5753 - loss: 0.6717 - val_accuracy: 0.6377 - val_loss: 0.6332\n",
      "Epoch 2/20\n",
      "\u001b[1m461/461\u001b[0m \u001b[32m━━━━━━━━━━━━━━━━━━━━\u001b[0m\u001b[37m\u001b[0m \u001b[1m16s\u001b[0m 36ms/step - accuracy: 0.6639 - loss: 0.6057 - val_accuracy: 0.6338 - val_loss: 0.6377\n",
      "Epoch 3/20\n",
      "\u001b[1m461/461\u001b[0m \u001b[32m━━━━━━━━━━━━━━━━━━━━\u001b[0m\u001b[37m\u001b[0m \u001b[1m18s\u001b[0m 39ms/step - accuracy: 0.6667 - loss: 0.5996 - val_accuracy: 0.5811 - val_loss: 0.6582\n",
      "Epoch 4/20\n",
      "\u001b[1m461/461\u001b[0m \u001b[32m━━━━━━━━━━━━━━━━━━━━\u001b[0m\u001b[37m\u001b[0m \u001b[1m21s\u001b[0m 45ms/step - accuracy: 0.6673 - loss: 0.5957 - val_accuracy: 0.6303 - val_loss: 0.6433\n",
      "Epoch 5/20\n",
      "\u001b[1m461/461\u001b[0m \u001b[32m━━━━━━━━━━━━━━━━━━━━\u001b[0m\u001b[37m\u001b[0m \u001b[1m20s\u001b[0m 43ms/step - accuracy: 0.6791 - loss: 0.5799 - val_accuracy: 0.6204 - val_loss: 0.6533\n",
      "Epoch 6/20\n",
      "\u001b[1m461/461\u001b[0m \u001b[32m━━━━━━━━━━━━━━━━━━━━\u001b[0m\u001b[37m\u001b[0m \u001b[1m20s\u001b[0m 44ms/step - accuracy: 0.6891 - loss: 0.5662 - val_accuracy: 0.6282 - val_loss: 0.6503\n",
      "Epoch 7/20\n",
      "\u001b[1m461/461\u001b[0m \u001b[32m━━━━━━━━━━━━━━━━━━━━\u001b[0m\u001b[37m\u001b[0m \u001b[1m22s\u001b[0m 47ms/step - accuracy: 0.6863 - loss: 0.5665 - val_accuracy: 0.6288 - val_loss: 0.6577\n",
      "Epoch 8/20\n",
      "\u001b[1m461/461\u001b[0m \u001b[32m━━━━━━━━━━━━━━━━━━━━\u001b[0m\u001b[37m\u001b[0m \u001b[1m22s\u001b[0m 47ms/step - accuracy: 0.6999 - loss: 0.5575 - val_accuracy: 0.6233 - val_loss: 0.6674\n",
      "Epoch 9/20\n",
      "\u001b[1m461/461\u001b[0m \u001b[32m━━━━━━━━━━━━━━━━━━━━\u001b[0m\u001b[37m\u001b[0m \u001b[1m20s\u001b[0m 43ms/step - accuracy: 0.7037 - loss: 0.5452 - val_accuracy: 0.6201 - val_loss: 0.6658\n",
      "Epoch 10/20\n",
      "\u001b[1m461/461\u001b[0m \u001b[32m━━━━━━━━━━━━━━━━━━━━\u001b[0m\u001b[37m\u001b[0m \u001b[1m20s\u001b[0m 43ms/step - accuracy: 0.7030 - loss: 0.5507 - val_accuracy: 0.6274 - val_loss: 0.6740\n",
      "Epoch 11/20\n",
      "\u001b[1m461/461\u001b[0m \u001b[32m━━━━━━━━━━━━━━━━━━━━\u001b[0m\u001b[37m\u001b[0m \u001b[1m18s\u001b[0m 40ms/step - accuracy: 0.7115 - loss: 0.5353 - val_accuracy: 0.6195 - val_loss: 0.6915\n",
      "Epoch 12/20\n",
      "\u001b[1m461/461\u001b[0m \u001b[32m━━━━━━━━━━━━━━━━━━━━\u001b[0m\u001b[37m\u001b[0m \u001b[1m18s\u001b[0m 39ms/step - accuracy: 0.7173 - loss: 0.5245 - val_accuracy: 0.6190 - val_loss: 0.6996\n",
      "Epoch 13/20\n",
      "\u001b[1m461/461\u001b[0m \u001b[32m━━━━━━━━━━━━━━━━━━━━\u001b[0m\u001b[37m\u001b[0m \u001b[1m19s\u001b[0m 42ms/step - accuracy: 0.7108 - loss: 0.5262 - val_accuracy: 0.6315 - val_loss: 0.6863\n",
      "Epoch 14/20\n",
      "\u001b[1m461/461\u001b[0m \u001b[32m━━━━━━━━━━━━━━━━━━━━\u001b[0m\u001b[37m\u001b[0m \u001b[1m16s\u001b[0m 35ms/step - accuracy: 0.7064 - loss: 0.5481 - val_accuracy: 0.6228 - val_loss: 0.6969\n",
      "Epoch 15/20\n",
      "\u001b[1m461/461\u001b[0m \u001b[32m━━━━━━━━━━━━━━━━━━━━\u001b[0m\u001b[37m\u001b[0m \u001b[1m17s\u001b[0m 36ms/step - accuracy: 0.7104 - loss: 0.5302 - val_accuracy: 0.6247 - val_loss: 0.7029\n",
      "Epoch 16/20\n",
      "\u001b[1m461/461\u001b[0m \u001b[32m━━━━━━━━━━━━━━━━━━━━\u001b[0m\u001b[37m\u001b[0m \u001b[1m16s\u001b[0m 34ms/step - accuracy: 0.7186 - loss: 0.5264 - val_accuracy: 0.6170 - val_loss: 0.7175\n",
      "Epoch 17/20\n",
      "\u001b[1m461/461\u001b[0m \u001b[32m━━━━━━━━━━━━━━━━━━━━\u001b[0m\u001b[37m\u001b[0m \u001b[1m15s\u001b[0m 31ms/step - accuracy: 0.7291 - loss: 0.5119 - val_accuracy: 0.6189 - val_loss: 0.7320\n",
      "Epoch 18/20\n",
      "\u001b[1m461/461\u001b[0m \u001b[32m━━━━━━━━━━━━━━━━━━━━\u001b[0m\u001b[37m\u001b[0m \u001b[1m13s\u001b[0m 28ms/step - accuracy: 0.7341 - loss: 0.4996 - val_accuracy: 0.6178 - val_loss: 0.7352\n",
      "Epoch 19/20\n",
      "\u001b[1m461/461\u001b[0m \u001b[32m━━━━━━━━━━━━━━━━━━━━\u001b[0m\u001b[37m\u001b[0m \u001b[1m14s\u001b[0m 31ms/step - accuracy: 0.7320 - loss: 0.4989 - val_accuracy: 0.5946 - val_loss: 0.7753\n",
      "Epoch 20/20\n",
      "\u001b[1m461/461\u001b[0m \u001b[32m━━━━━━━━━━━━━━━━━━━━\u001b[0m\u001b[37m\u001b[0m \u001b[1m15s\u001b[0m 33ms/step - accuracy: 0.7248 - loss: 0.5093 - val_accuracy: 0.6190 - val_loss: 0.7562\n"
     ]
    },
    {
     "data": {
      "text/plain": [
       "<keras.src.callbacks.history.History at 0x14c2157b850>"
      ]
     },
     "execution_count": 27,
     "metadata": {},
     "output_type": "execute_result"
    }
   ],
   "source": [
    "RNN_model = Sequential()\n",
    "RNN_model.add(Embedding(max_words, 64))\n",
    "RNN_model.add(SimpleRNN(64))\n",
    "RNN_model.add(Dense(1, activation='sigmoid'))\n",
    "\n",
    "\n",
    "RNN_model.compile(optimizer='adam', loss='binary_crossentropy', metrics=['accuracy'])\n",
    "RNN_model.fit(X_train_padded, Y_train, epochs=20, batch_size=64, validation_data=(X_test_padded, Y_test))\n"
   ]
  },
  {
   "cell_type": "markdown",
   "id": "d8a35492-747b-4fea-a80c-1602ff36da21",
   "metadata": {},
   "source": [
    "# LSTM Model"
   ]
  },
  {
   "cell_type": "code",
   "execution_count": 30,
   "id": "dea5fb34-e15c-45cf-bf39-5a4c65a28705",
   "metadata": {},
   "outputs": [
    {
     "name": "stdout",
     "output_type": "stream",
     "text": [
      "Epoch 1/20\n",
      "\u001b[1m461/461\u001b[0m \u001b[32m━━━━━━━━━━━━━━━━━━━━\u001b[0m\u001b[37m\u001b[0m \u001b[1m46s\u001b[0m 92ms/step - accuracy: 0.5863 - loss: 0.6646 - val_accuracy: 0.6391 - val_loss: 0.6322\n",
      "Epoch 2/20\n",
      "\u001b[1m461/461\u001b[0m \u001b[32m━━━━━━━━━━━━━━━━━━━━\u001b[0m\u001b[37m\u001b[0m \u001b[1m51s\u001b[0m 112ms/step - accuracy: 0.6618 - loss: 0.6146 - val_accuracy: 0.6380 - val_loss: 0.6329\n",
      "Epoch 3/20\n",
      "\u001b[1m461/461\u001b[0m \u001b[32m━━━━━━━━━━━━━━━━━━━━\u001b[0m\u001b[37m\u001b[0m \u001b[1m51s\u001b[0m 111ms/step - accuracy: 0.6646 - loss: 0.6038 - val_accuracy: 0.6384 - val_loss: 0.6314\n",
      "Epoch 4/20\n",
      "\u001b[1m461/461\u001b[0m \u001b[32m━━━━━━━━━━━━━━━━━━━━\u001b[0m\u001b[37m\u001b[0m \u001b[1m49s\u001b[0m 107ms/step - accuracy: 0.6677 - loss: 0.6007 - val_accuracy: 0.6366 - val_loss: 0.6318\n",
      "Epoch 5/20\n",
      "\u001b[1m461/461\u001b[0m \u001b[32m━━━━━━━━━━━━━━━━━━━━\u001b[0m\u001b[37m\u001b[0m \u001b[1m48s\u001b[0m 104ms/step - accuracy: 0.6730 - loss: 0.5926 - val_accuracy: 0.6335 - val_loss: 0.6340\n",
      "Epoch 6/20\n",
      "\u001b[1m461/461\u001b[0m \u001b[32m━━━━━━━━━━━━━━━━━━━━\u001b[0m\u001b[37m\u001b[0m \u001b[1m49s\u001b[0m 107ms/step - accuracy: 0.6792 - loss: 0.5830 - val_accuracy: 0.6361 - val_loss: 0.6350\n",
      "Epoch 7/20\n",
      "\u001b[1m461/461\u001b[0m \u001b[32m━━━━━━━━━━━━━━━━━━━━\u001b[0m\u001b[37m\u001b[0m \u001b[1m51s\u001b[0m 110ms/step - accuracy: 0.6849 - loss: 0.5741 - val_accuracy: 0.6381 - val_loss: 0.6426\n",
      "Epoch 8/20\n",
      "\u001b[1m461/461\u001b[0m \u001b[32m━━━━━━━━━━━━━━━━━━━━\u001b[0m\u001b[37m\u001b[0m \u001b[1m50s\u001b[0m 108ms/step - accuracy: 0.6918 - loss: 0.5646 - val_accuracy: 0.6335 - val_loss: 0.6460\n",
      "Epoch 9/20\n",
      "\u001b[1m461/461\u001b[0m \u001b[32m━━━━━━━━━━━━━━━━━━━━\u001b[0m\u001b[37m\u001b[0m \u001b[1m50s\u001b[0m 108ms/step - accuracy: 0.6944 - loss: 0.5603 - val_accuracy: 0.6313 - val_loss: 0.6663\n",
      "Epoch 10/20\n",
      "\u001b[1m461/461\u001b[0m \u001b[32m━━━━━━━━━━━━━━━━━━━━\u001b[0m\u001b[37m\u001b[0m \u001b[1m51s\u001b[0m 110ms/step - accuracy: 0.6983 - loss: 0.5502 - val_accuracy: 0.6303 - val_loss: 0.6681\n",
      "Epoch 11/20\n",
      "\u001b[1m461/461\u001b[0m \u001b[32m━━━━━━━━━━━━━━━━━━━━\u001b[0m\u001b[37m\u001b[0m \u001b[1m50s\u001b[0m 108ms/step - accuracy: 0.7091 - loss: 0.5405 - val_accuracy: 0.6251 - val_loss: 0.6831\n",
      "Epoch 12/20\n",
      "\u001b[1m461/461\u001b[0m \u001b[32m━━━━━━━━━━━━━━━━━━━━\u001b[0m\u001b[37m\u001b[0m \u001b[1m50s\u001b[0m 109ms/step - accuracy: 0.7136 - loss: 0.5294 - val_accuracy: 0.6262 - val_loss: 0.7004\n",
      "Epoch 13/20\n",
      "\u001b[1m461/461\u001b[0m \u001b[32m━━━━━━━━━━━━━━━━━━━━\u001b[0m\u001b[37m\u001b[0m \u001b[1m51s\u001b[0m 110ms/step - accuracy: 0.7226 - loss: 0.5164 - val_accuracy: 0.6265 - val_loss: 0.7365\n",
      "Epoch 14/20\n",
      "\u001b[1m461/461\u001b[0m \u001b[32m━━━━━━━━━━━━━━━━━━━━\u001b[0m\u001b[37m\u001b[0m \u001b[1m52s\u001b[0m 113ms/step - accuracy: 0.7329 - loss: 0.5025 - val_accuracy: 0.6227 - val_loss: 0.7465\n",
      "Epoch 15/20\n",
      "\u001b[1m461/461\u001b[0m \u001b[32m━━━━━━━━━━━━━━━━━━━━\u001b[0m\u001b[37m\u001b[0m \u001b[1m52s\u001b[0m 113ms/step - accuracy: 0.7369 - loss: 0.4892 - val_accuracy: 0.6176 - val_loss: 0.7656\n",
      "Epoch 16/20\n",
      "\u001b[1m461/461\u001b[0m \u001b[32m━━━━━━━━━━━━━━━━━━━━\u001b[0m\u001b[37m\u001b[0m \u001b[1m51s\u001b[0m 112ms/step - accuracy: 0.7393 - loss: 0.4845 - val_accuracy: 0.6136 - val_loss: 0.7933\n",
      "Epoch 17/20\n",
      "\u001b[1m461/461\u001b[0m \u001b[32m━━━━━━━━━━━━━━━━━━━━\u001b[0m\u001b[37m\u001b[0m \u001b[1m52s\u001b[0m 113ms/step - accuracy: 0.7453 - loss: 0.4722 - val_accuracy: 0.6098 - val_loss: 0.8266\n",
      "Epoch 18/20\n",
      "\u001b[1m461/461\u001b[0m \u001b[32m━━━━━━━━━━━━━━━━━━━━\u001b[0m\u001b[37m\u001b[0m \u001b[1m52s\u001b[0m 113ms/step - accuracy: 0.7534 - loss: 0.4622 - val_accuracy: 0.6110 - val_loss: 0.8578\n",
      "Epoch 19/20\n",
      "\u001b[1m461/461\u001b[0m \u001b[32m━━━━━━━━━━━━━━━━━━━━\u001b[0m\u001b[37m\u001b[0m \u001b[1m52s\u001b[0m 113ms/step - accuracy: 0.7566 - loss: 0.4525 - val_accuracy: 0.6065 - val_loss: 0.8617\n",
      "Epoch 20/20\n",
      "\u001b[1m461/461\u001b[0m \u001b[32m━━━━━━━━━━━━━━━━━━━━\u001b[0m\u001b[37m\u001b[0m \u001b[1m53s\u001b[0m 114ms/step - accuracy: 0.7660 - loss: 0.4415 - val_accuracy: 0.6094 - val_loss: 0.9205\n"
     ]
    },
    {
     "data": {
      "text/plain": [
       "<keras.src.callbacks.history.History at 0x14c236de090>"
      ]
     },
     "execution_count": 30,
     "metadata": {},
     "output_type": "execute_result"
    }
   ],
   "source": [
    "LSTM_model = Sequential()\n",
    "LSTM_model.add(Embedding(max_words, 64))\n",
    "LSTM_model.add(LSTM(64))\n",
    "LSTM_model.add(Dense(1, activation='sigmoid'))\n",
    "\n",
    "LSTM_model.compile(optimizer='adam', loss='binary_crossentropy', metrics=['accuracy'])\n",
    "LSTM_model.fit(X_train_padded, Y_train, epochs=20, batch_size=64, validation_data=(X_test_padded, Y_test))\n"
   ]
  },
  {
   "cell_type": "markdown",
   "id": "7e105a33-8de7-406f-a5fb-c1a558c7bb9d",
   "metadata": {},
   "source": [
    "# Evaulation and Comparsion"
   ]
  },
  {
   "cell_type": "code",
   "execution_count": 33,
   "id": "3a956b35-0604-44d5-87f2-eacfb36870d2",
   "metadata": {},
   "outputs": [
    {
     "name": "stdout",
     "output_type": "stream",
     "text": [
      "\u001b[1m231/231\u001b[0m \u001b[32m━━━━━━━━━━━━━━━━━━━━\u001b[0m\u001b[37m\u001b[0m \u001b[1m2s\u001b[0m 10ms/step - accuracy: 0.6169 - loss: 0.7667\n",
      "RNN Accuracy: 0.6189959049224854\n",
      "\u001b[1m231/231\u001b[0m \u001b[32m━━━━━━━━━━━━━━━━━━━━\u001b[0m\u001b[37m\u001b[0m \u001b[1m7s\u001b[0m 29ms/step - accuracy: 0.6006 - loss: 0.9293\n",
      "LSTM Accuracy: 0.6093623042106628\n"
     ]
    }
   ],
   "source": [
    "\n",
    "rnn_loss, rnn_accuracy = RNN_model.evaluate(X_test_padded,Y_test)\n",
    "print(\"RNN Accuracy:\", rnn_accuracy)\n",
    "\n",
    "lstm_loss, lstm_accuracy = LSTM_model.evaluate(X_test_padded,Y_test)\n",
    "print(\"LSTM Accuracy:\", lstm_accuracy)\n"
   ]
  },
  {
   "cell_type": "code",
   "execution_count": null,
   "id": "f89fdd1d",
   "metadata": {},
   "outputs": [],
   "source": []
  }
 ],
 "metadata": {
  "kernelspec": {
   "display_name": "Python 3 (ipykernel)",
   "language": "python",
   "name": "python3"
  },
  "language_info": {
   "codemirror_mode": {
    "name": "ipython",
    "version": 3
   },
   "file_extension": ".py",
   "mimetype": "text/x-python",
   "name": "python",
   "nbconvert_exporter": "python",
   "pygments_lexer": "ipython3",
   "version": "3.11.4"
  }
 },
 "nbformat": 4,
 "nbformat_minor": 5
}
